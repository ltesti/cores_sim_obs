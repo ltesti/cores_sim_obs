{
 "cells": [
  {
   "cell_type": "markdown",
   "metadata": {},
   "source": [
    "# Compuation of empirical cumulative cores mass functions\n",
    "## Leonardo Testi - 5 May 2016 - GoCAS\n",
    "\n",
    "+ Objective: compare observed and simulated ECCMF\n",
    "+ Input data: \n",
    "    - observed cores mass list from *masse_new.dat*\n",
    "    - simulated cores mu=2 from *masse_simul/mass_mu2_xy.dat* (also available *xz* and *yz* versions)\n",
    "    - simulated cores mu=200 from *masse_simul/mass_mu200_xy.dat* (also available *xz* and *yz* versions)\n",
    "+ Method: plot the ECCMF and compute Anderson-Darling test"
   ]
  },
  {
   "cell_type": "code",
   "execution_count": 1,
   "metadata": {
    "collapsed": false
   },
   "outputs": [
    {
     "name": "stderr",
     "output_type": "stream",
     "text": [
      "/Users/ltesti/anaconda/lib/python2.7/site-packages/IPython/kernel/__init__.py:13: ShimWarning: The `IPython.kernel` package has been deprecated. You should import from ipykernel or jupyter_client instead.\n",
      "  \"You should import from ipykernel or jupyter_client instead.\", ShimWarning)\n"
     ]
    }
   ],
   "source": [
    "# Initial setup: reading packages and setting global parameters\n",
    "\n",
    "from readcol import *\n",
    "import numpy as np\n",
    "import aplpy as apl\n",
    "from cutout import *\n",
    "import matplotlib\n",
    "import matplotlib.pyplot as plt\n",
    "import astropy.io.fits as aif\n",
    "from astropy import wcs \n",
    "import statsmodels.api as sm\n",
    "import scipy.stats as ss\n",
    "%matplotlib inline \n",
    "matplotlib.rcParams['axes.linewidth'] = 2.5\n",
    "matplotlib.rcParams['text.usetex'] = True\n",
    "matplotlib.rcParams['font.size'] = 20\n",
    "\n",
    "obs_eccmf_file = 'masse_new.dat'\n",
    "obs_eccmf_file = 'fluxes-peak.dat'\n",
    "mod_dir = 'masse_simul'\n",
    "proj = ['xy','xz','yz']\n",
    "#proj = ['yz']\n",
    "obs_eccmf_mu2 = []\n",
    "obs_eccmf_mu200 = []\n",
    "base_name = 'masse_mu'\n",
    "base_name = 'fluxes-peak-mu'\n",
    "for i in xrange(len(proj)):\n",
    "    obs_eccmf_mu2.append(mod_dir+'/'+base_name+'2_'+proj[i]+'.dat')\n",
    "    obs_eccmf_mu200.append(mod_dir+'/'+base_name+'200_'+proj[i]+'.dat')\n"
   ]
  },
  {
   "cell_type": "code",
   "execution_count": 2,
   "metadata": {
    "collapsed": false
   },
   "outputs": [
    {
     "name": "stdout",
     "output_type": "stream",
     "text": [
      "r_ad_2 = Anderson_ksampResult(statistic=3.4552254876313158, critical_values=array([ 0.325,  1.226,  1.961,  2.718,  3.752]), significance_level=0.012939641473925081)\n",
      "r_ad_200 = Anderson_ksampResult(statistic=8.0031913811584552, critical_values=array([ 0.325,  1.226,  1.961,  2.718,  3.752]), significance_level=0.0004263543152466397)\n",
      "r_ad_2 = Anderson_ksampResult(statistic=3.7448581532899539, critical_values=array([ 0.325,  1.226,  1.961,  2.718,  3.752]), significance_level=0.010092150424039594)\n",
      "r_ad_200 = Anderson_ksampResult(statistic=6.0024399487850646, critical_values=array([ 0.325,  1.226,  1.961,  2.718,  3.752]), significance_level=0.0016819592320203656)\n",
      "r_ad_2 = Anderson_ksampResult(statistic=1.2798328778517643, critical_values=array([ 0.325,  1.226,  1.961,  2.718,  3.752]), significance_level=0.09583931386718389)\n",
      "r_ad_200 = Anderson_ksampResult(statistic=6.5786736096640954, critical_values=array([ 0.325,  1.226,  1.961,  2.718,  3.752]), significance_level=0.0011095114590569672)\n"
     ]
    },
    {
     "name": "stderr",
     "output_type": "stream",
     "text": [
      "/Users/ltesti/anaconda/lib/python2.7/site-packages/scipy/stats/morestats.py:1430: UserWarning: approximate p-value will be computed by extrapolation\n",
      "  warnings.warn(\"approximate p-value will be computed by extrapolation\")\n"
     ]
    },
    {
     "data": {
      "image/png": "[encoded data removed]",
      "text/plain": [
       "<matplotlib.figure.Figure at 0x1038037d0>"
      ]
     },
     "metadata": {},
     "output_type": "display_data"
    }
   ],
   "source": [
    "# Read files with data\n",
    "bins = numpy.linspace(-1.5, 1.5, 10)\n",
    "bins = numpy.linspace(-3.2, -0.5, 10)\n",
    "\n",
    "#def plhist(m,col,fc,alph=1.0,lwt=1,stf=False):\n",
    "#    ax1.hist(mdms_stars, bins, color=col, facecolor=fcol, lw=lwt, alpha=0.3, histtype=stf)\n",
    "#    #ax1.hist(mdms_stars_b2, bins, alpha=1.0, color='g',histtype='step', linestyle='solid', lw=3)\n",
    "#    #ax1.hist(mdms_bds, bins, alpha=1.0, color='r',histtype='step', linestyle='solid', lw=3)\n",
    "#\n",
    "#\n",
    "#    #ax1.set_xlabel(r\"Log$_{10}$(M$_{disk}$/M$_\\star$)\")\n",
    "#    #ax1.set_ylabel(r\"N(M$_{disk}$/M$_\\star$)\")\n",
    "\n",
    "\n",
    "def dopl(mm, col, lwt, malp=1.0, stf='step'):\n",
    "    eccdf = sm.distributions.ECDF(mm)\n",
    "    x = np.linspace(min(mm), max(mm))\n",
    "    ax1.hist(mm, bins, color=col, facecolor=col, lw=lwt, alpha=malp, histtype=stf)\n",
    "    ax2.step(x, eccdf(x), color=col, lw=lwt)\n",
    "    return x, eccdf\n",
    "\n",
    "fig, (ax1, ax2) = plt.subplots(2, 1, sharex=True, sharey=False, squeeze=True, figsize=(7,8))\n",
    "#ax1.set_xlim(0.001,0.05)\n",
    "#ax1.set_ylim(0,6.5)\n",
    "\n",
    "#nam,pl,f,th,d,m = readcol(obs_eccmf_file,6,format='A,F,F,F,F,F',skipline=2,verbose=False)\n",
    "nam,f,th,d,m = readcol(obs_eccmf_file,5,format='A,F,F,F,F',skipline=4,verbose=True)\n",
    "#eccdf_obs = sm.distributions.ECDF(m)\n",
    "#x_m = np.linspace(min(m), max(m))\n",
    "#plt.step(x_m, eccdf_obs(x_m), color='black', lw=3)\n",
    "lm=np.log10(m)\n",
    "#lm = np.copy(m)\n",
    "x_m, eccdf_obs = dopl(lm, 'black', 3, malp=0.3, stf='stepfilled')\n",
    "som = np.sort(lm)\n",
    "for i in xrange(len(proj)):\n",
    "    nam2,f2,th2,d2,m2 = readcol(obs_eccmf_mu2[i],5,format='A,F,F,F,F',skipline=2,verbose=False)\n",
    "    lm2=np.log10(m2[np.where(f2 > 0.00007)])\n",
    "    #lm2=np.copy(m2)\n",
    "    x_m_2, eccdf_sim_2 = dopl(lm2, 'green', 2)\n",
    "    som_2 = np.sort(lm2)\n",
    "    nam200,f200,th200,d200,m200 = readcol(obs_eccmf_mu200[i],5,format='A,F,F,F,F',skipline=2,verbose=False)\n",
    "    lm200=np.log10(m200[np.where(f200 > 0.00007)])\n",
    "    #lm200=np.copy(m200)\n",
    "    x_m_200, eccdf_sim_200 = dopl(lm200, 'blue', 2)\n",
    "    som_200 = np.sort(lm200)\n",
    "    r_ad_2 = ss.anderson_ksamp([som, som_2])\n",
    "    print(\"r_ad_2 = {0}\".format(r_ad_2))\n",
    "    r_ad_200 = ss.anderson_ksamp([som, som_200])\n",
    "    print(\"r_ad_200 = {0}\".format(r_ad_200))\n",
    "\n",
    "fig.tight_layout()\n",
    "fig.subplots_adjust(hspace=0,wspace=0)\n",
    "\n",
    "#plt.show()\n"
   ]
  }
 ],
 "metadata": {
  "kernelspec": {
   "display_name": "Python 2",
   "language": "python",
   "name": "python2"
  },
  "language_info": {
   "codemirror_mode": {
    "name": "ipython",
    "version": 2
   },
   "file_extension": ".py",
   "mimetype": "text/x-python",
   "name": "python",
   "nbconvert_exporter": "python",
   "pygments_lexer": "ipython2",
   "version": "2.7.11"
  }
 },
 "nbformat": 4,
 "nbformat_minor": 0
}
